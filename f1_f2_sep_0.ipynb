{
 "cells": [
  {
   "cell_type": "code",
   "execution_count": 6,
   "metadata": {},
   "outputs": [],
   "source": [
    "import numpy as np\n",
    "import os\n",
    "import pickle\n",
    "import torch\n",
    "import torch.nn as nn\n",
    "import scipy.special as ss"
   ]
  },
  {
   "cell_type": "code",
   "execution_count": 2,
   "metadata": {},
   "outputs": [],
   "source": [
    "class empty_class:\n",
    "    pass"
   ]
  },
  {
   "cell_type": "code",
   "execution_count": 15,
   "metadata": {},
   "outputs": [],
   "source": [
    "args = empty_class()\n",
    "args.d = 15\n",
    "args.k = 10\n",
    "args.n_samples = 1000\n",
    "args.seed = 42\n",
    "args.gamma = 0.5"
   ]
  },
  {
   "cell_type": "code",
   "execution_count": 34,
   "metadata": {},
   "outputs": [],
   "source": [
    "def get_samples(args):\n",
    "    fname = os.path.join('samples', \n",
    "                         f'samples_{args.d}_{args.k}_{args.n_samples}_{args.seed}.pkl')\n",
    "    if os.path.exists(fname):\n",
    "        X = pickle.load(open(fname, 'rb'))\n",
    "        return X\n",
    "    else:\n",
    "        q_k_d = ss.jacobi(args.k, (args.d-3)/2.0, (args.d-3)/2.0)\n",
    "        legendre_k_d = q_k_d/q_k_d(1)\n",
    "        X0 = torch.randn(args.n_samples,args.d)\n",
    "        X0 = torch.nn.functional.normalize(X0, p=2, dim=1)\n",
    "        acceptance_prob = torch.from_numpy(0.49 + 0.49*legendre_k_d(X0[:,args.d-1]))\n",
    "        acceptance_vector = torch.bernoulli(acceptance_prob)\n",
    "        print('Acc. prob. sum:', torch.norm(acceptance_prob, p=1), 'Acc. vec. sum:', torch.norm(acceptance_vector, p=1))\n",
    "        accepted_rows = []\n",
    "        for i in range(args.n_samples):\n",
    "            if acceptance_vector[i] == 1:\n",
    "                accepted_rows.append(i)\n",
    "        accepted_rows_tensor = torch.tensor(accepted_rows).unsqueeze(1).expand([len(accepted_rows),args.d])\n",
    "        X = torch.gather(X0, 0, accepted_rows_tensor)\n",
    "        if not os.path.exists('samples'):\n",
    "            os.makedirs('samples')\n",
    "        pickle.dump(X, open(fname, 'wb'))\n",
    "        return X"
   ]
  },
  {
   "cell_type": "code",
   "execution_count": 10,
   "metadata": {},
   "outputs": [],
   "source": [
    "q_k_d = ss.jacobi(args.k, (args.d-3)/2.0, (args.d-3)/2.0)\n",
    "legendre_k_d = q_k_d/q_k_d(1)"
   ]
  },
  {
   "cell_type": "code",
   "execution_count": 35,
   "metadata": {},
   "outputs": [
    {
     "name": "stdout",
     "output_type": "stream",
     "text": [
      "Acc. prob. sum: tensor(490.0014) Acc. vec. sum: tensor(501.)\n"
     ]
    }
   ],
   "source": [
    "X = get_samples(args)"
   ]
  },
  {
   "cell_type": "code",
   "execution_count": 37,
   "metadata": {},
   "outputs": [
    {
     "data": {
      "text/plain": [
       "torch.Size([501, 15])"
      ]
     },
     "execution_count": 37,
     "metadata": {},
     "output_type": "execute_result"
    }
   ],
   "source": [
    "X.shape"
   ]
  },
  {
   "cell_type": "code",
   "execution_count": null,
   "metadata": {},
   "outputs": [],
   "source": []
  }
 ],
 "metadata": {
  "kernelspec": {
   "display_name": "Python 3",
   "language": "python",
   "name": "python3"
  },
  "language_info": {
   "codemirror_mode": {
    "name": "ipython",
    "version": 3
   },
   "file_extension": ".py",
   "mimetype": "text/x-python",
   "name": "python",
   "nbconvert_exporter": "python",
   "pygments_lexer": "ipython3",
   "version": "3.7.4"
  }
 },
 "nbformat": 4,
 "nbformat_minor": 2
}
