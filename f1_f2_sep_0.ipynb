{
 "cells": [
  {
   "cell_type": "code",
   "execution_count": 2,
   "metadata": {},
   "outputs": [],
   "source": [
    "import numpy as np\n",
    "import math\n",
    "import os\n",
    "import pickle\n",
    "import torch\n",
    "import torch.nn as nn\n",
    "import scipy.special as ss"
   ]
  },
  {
   "cell_type": "code",
   "execution_count": 3,
   "metadata": {},
   "outputs": [],
   "source": [
    "class empty_class:\n",
    "    pass"
   ]
  },
  {
   "cell_type": "code",
   "execution_count": 20,
   "metadata": {},
   "outputs": [],
   "source": [
    "args = empty_class()\n",
    "args.d = 20\n",
    "args.k = 6\n",
    "args.n_samples = 10000000\n",
    "args.n_samples_d_f2 = 10000\n",
    "args.seed = 42\n",
    "args.alpha = 1\n",
    "args.gamma = 0.5"
   ]
  },
  {
   "cell_type": "code",
   "execution_count": 5,
   "metadata": {},
   "outputs": [],
   "source": [
    "def get_nu_samples(args):\n",
    "    fname = os.path.join('nu_samples', \n",
    "                         f'nu_samples_{args.d}_{args.k}_{args.n_samples}_{args.seed}.pkl')\n",
    "    if os.path.exists(fname):\n",
    "        X = pickle.load(open(fname, 'rb'))\n",
    "        return X\n",
    "    else:\n",
    "        q_k_d = ss.jacobi(args.k, (args.d-3)/2.0, (args.d-3)/2.0)\n",
    "        legendre_k_d = q_k_d/q_k_d(1)\n",
    "        X0 = torch.randn(args.n_samples,args.d)\n",
    "        X0 = torch.nn.functional.normalize(X0, p=2, dim=1)\n",
    "        #acceptance_prob = torch.from_numpy(0.49 + 0.49*legendre_k_d(X0[:,args.d-1]))\n",
    "        acceptance_prob = torch.nn.functional.relu(torch.from_numpy(0.99*legendre_k_d(X0[:,args.d-1])))\n",
    "        acceptance_vector = torch.bernoulli(acceptance_prob)\n",
    "        print('Acc. prob. sum:', torch.norm(acceptance_prob, p=1), 'Acc. vec. sum:', torch.norm(acceptance_vector, p=1))\n",
    "        accepted_rows = []\n",
    "        for i in range(args.n_samples):\n",
    "            if acceptance_vector[i] == 1:\n",
    "                accepted_rows.append(i)\n",
    "        accepted_rows_tensor = torch.tensor(accepted_rows).unsqueeze(1).expand([len(accepted_rows),args.d])\n",
    "        X = torch.gather(X0, 0, accepted_rows_tensor)\n",
    "        if not os.path.exists('nu_samples'):\n",
    "            os.makedirs('nu_samples')\n",
    "        pickle.dump(X, open(fname, 'wb'))\n",
    "        return X"
   ]
  },
  {
   "cell_type": "code",
   "execution_count": 6,
   "metadata": {},
   "outputs": [],
   "source": [
    "def get_mu_samples(args):\n",
    "    fname = os.path.join('mu_samples', \n",
    "                         f'mu_samples_{args.d}_{args.n_samples}_{args.seed}.pkl')\n",
    "    if os.path.exists(fname):\n",
    "        X = pickle.load(open(fname, 'rb'))\n",
    "        return X\n",
    "    else:\n",
    "        #X = torch.randn(args.n_samples,args.d)\n",
    "        #X = torch.nn.functional.normalize(X, p=2, dim=1)\n",
    "        q_k_d = ss.jacobi(args.k, (args.d-3)/2.0, (args.d-3)/2.0)\n",
    "        legendre_k_d = q_k_d/q_k_d(1)\n",
    "        X0 = torch.randn(args.n_samples,args.d)\n",
    "        X0 = torch.nn.functional.normalize(X0, p=2, dim=1)\n",
    "        acceptance_prob = torch.nn.functional.relu(torch.from_numpy(-0.99*legendre_k_d(X0[:,args.d-1])))\n",
    "        acceptance_vector = torch.bernoulli(acceptance_prob)\n",
    "        print('Acc. prob. sum:', torch.norm(acceptance_prob, p=1), 'Acc. vec. sum:', torch.norm(acceptance_vector, p=1))\n",
    "        accepted_rows = []\n",
    "        for i in range(args.n_samples):\n",
    "            if acceptance_vector[i] == 1:\n",
    "                accepted_rows.append(i)\n",
    "        accepted_rows_tensor = torch.tensor(accepted_rows).unsqueeze(1).expand([len(accepted_rows),args.d])\n",
    "        X = torch.gather(X0, 0, accepted_rows_tensor)\n",
    "        if not os.path.exists('mu_samples'):\n",
    "            os.makedirs('mu_samples')\n",
    "        pickle.dump(X, open(fname, 'wb'))\n",
    "        return X"
   ]
  },
  {
   "cell_type": "code",
   "execution_count": 10,
   "metadata": {},
   "outputs": [],
   "source": [
    "q_k_d = ss.jacobi(args.k, (args.d-3)/2.0, (args.d-3)/2.0)\n",
    "legendre_k_d = q_k_d/q_k_d(1)"
   ]
  },
  {
   "cell_type": "code",
   "execution_count": 7,
   "metadata": {},
   "outputs": [],
   "source": [
    "X_nu = get_nu_samples(args)"
   ]
  },
  {
   "cell_type": "code",
   "execution_count": 8,
   "metadata": {},
   "outputs": [],
   "source": [
    "X_mu = get_mu_samples(args)"
   ]
  },
  {
   "cell_type": "code",
   "execution_count": 17,
   "metadata": {},
   "outputs": [
    {
     "name": "stdout",
     "output_type": "stream",
     "text": [
      "torch.Size([7220, 20]) torch.Size([7220, 20])\n",
      "torch.Size([7220, 20]) torch.Size([7220, 20])\n"
     ]
    }
   ],
   "source": [
    "print(X_nu.shape, X_mu.shape)\n",
    "min_num = np.min([X_nu.shape[0],X_mu.shape[0]])\n",
    "X_nu = X_nu[:(min_num),:]\n",
    "X_mu = X_mu[:(min_num),:]\n",
    "print(X_nu.shape, X_mu.shape)"
   ]
  },
  {
   "cell_type": "code",
   "execution_count": 33,
   "metadata": {},
   "outputs": [],
   "source": [
    "def d_f1_estimate(X_nu, X_mu, a, b):\n",
    "    gen_moment_nu_positive = a*torch.mean(torch.nn.functional.relu(X_nu[:,args.d-1])) + b*torch.mean(torch.nn.functional.relu(-X_nu[:,args.d-1]))\n",
    "    gen_moment_nu_negative = a*torch.mean(torch.nn.functional.relu(-X_nu[:,args.d-1])) + b*torch.mean(torch.nn.functional.relu(X_nu[:,args.d-1]))\n",
    "    gen_moment_mu_positive = a*torch.mean(torch.nn.functional.relu(X_mu[:,args.d-1])) + b*torch.mean(torch.nn.functional.relu(-X_mu[:,args.d-1]))\n",
    "    gen_moment_mu_negative = a*torch.mean(torch.nn.functional.relu(-X_mu[:,args.d-1])) + b*torch.mean(torch.nn.functional.relu(X_mu[:,args.d-1]))\n",
    "    return torch.max(torch.abs(gen_moment_nu_positive - gen_moment_mu_positive),torch.abs(gen_moment_nu_negative - gen_moment_mu_negative))"
   ]
  },
  {
   "cell_type": "code",
   "execution_count": 57,
   "metadata": {},
   "outputs": [
    {
     "name": "stdout",
     "output_type": "stream",
     "text": [
      "tensor(0.0312)\n"
     ]
    }
   ],
   "source": [
    "print(d_f1_estimate(X_nu, X_mu, 1, 0))"
   ]
  },
  {
   "cell_type": "code",
   "execution_count": 97,
   "metadata": {},
   "outputs": [],
   "source": [
    "N_kd = (2*args.k + args.d - 2) * math.factorial(args.k + args.d - 3) / (math.factorial(args.k) * math.factorial(args.d -2))"
   ]
  },
  {
   "cell_type": "code",
   "execution_count": 98,
   "metadata": {},
   "outputs": [
    {
     "name": "stdout",
     "output_type": "stream",
     "text": [
      "35700.0\n"
     ]
    }
   ],
   "source": [
    "print(N_kd)"
   ]
  },
  {
   "cell_type": "code",
   "execution_count": 99,
   "metadata": {},
   "outputs": [],
   "source": [
    "lambda_kd = (args.d - 2)*math.factorial(args.alpha)*math.gamma((args.d-1)/2)*math.gamma(args.k-args.alpha)/ \\\n",
    "((2**args.k)*math.gamma((args.k-args.alpha+1)/2)*math.gamma((args.k+args.d+args.alpha)/2))"
   ]
  },
  {
   "cell_type": "code",
   "execution_count": 100,
   "metadata": {},
   "outputs": [
    {
     "name": "stdout",
     "output_type": "stream",
     "text": [
      "2067.6923076923076\n"
     ]
    }
   ],
   "source": [
    "print(1/lambda_kd)"
   ]
  },
  {
   "cell_type": "code",
   "execution_count": 28,
   "metadata": {},
   "outputs": [],
   "source": [
    "def f2_kernel_evaluation(X0, X1, fill_diag = True):\n",
    "    #X = torch.cat((X_mu, -X_nu), 0)\n",
    "    if fill_diag:\n",
    "        inner_prod = torch.matmul(X0,X1.t()).fill_diagonal_(fill_value = 1)\n",
    "    else:\n",
    "        inner_prod = torch.matmul(X0,X1.t())\n",
    "    values = ((np.pi-torch.acos(inner_prod))*inner_prod \\\n",
    "            + torch.sqrt(1-inner_prod*inner_prod))/(2*np.pi*(args.d+1))\n",
    "    return values \n",
    "    #2*np.sqrt(torch.mean(values))"
   ]
  },
  {
   "cell_type": "code",
   "execution_count": 23,
   "metadata": {},
   "outputs": [],
   "source": [
    "def d_f2_estimate_exact_kernel(X_nu, X_mu, a, b):\n",
    "    kernel_eval_X_mu_X_mu = f2_kernel_evaluation(X_mu, X_mu)\n",
    "    kernel_eval_X_nu_X_nu = f2_kernel_evaluation(X_nu, X_nu)\n",
    "    kernel_eval_X_mu_X_nu = f2_kernel_evaluation(X_mu, X_nu, fill_diag = False)\n",
    "    return np.sqrt(torch.mean(kernel_eval_X_mu_X_mu) + torch.mean(kernel_eval_X_nu_X_nu) - 2*torch.mean(kernel_eval_X_mu_X_nu))"
   ]
  },
  {
   "cell_type": "code",
   "execution_count": 21,
   "metadata": {},
   "outputs": [],
   "source": [
    "def d_f2_estimate(X_nu, X_mu, a, b):\n",
    "    Y0 = torch.randn(args.d,args.n_samples_d_f2)\n",
    "    Y0 = torch.nn.functional.normalize(Y0, p=2, dim=0)\n",
    "    gen_moment_nu_positive = a*torch.mean(torch.nn.functional.relu(torch.matmul(X_nu,Y0)), dim=0) + b*torch.mean(torch.nn.functional.relu(-torch.matmul(X_nu,Y0)), dim=0)\n",
    "    gen_moment_nu_negative = a*torch.mean(torch.nn.functional.relu(-torch.matmul(X_nu,Y0)), dim=0) + b*torch.mean(torch.nn.functional.relu(torch.matmul(X_nu,Y0)), dim=0)\n",
    "    gen_moment_mu_positive = a*torch.mean(torch.nn.functional.relu(torch.matmul(X_mu,Y0)), dim=0) + b*torch.mean(torch.nn.functional.relu(-torch.matmul(X_mu,Y0)), dim=0)\n",
    "    gen_moment_mu_negative = a*torch.mean(torch.nn.functional.relu(-torch.matmul(X_mu,Y0)), dim=0) + b*torch.mean(torch.nn.functional.relu(torch.matmul(X_mu,Y0)), dim=0)\n",
    "    d_f2_sq = torch.mean(0.5*(gen_moment_nu_positive-gen_moment_mu_positive)**2 + 0.5*(gen_moment_nu_negative-gen_moment_mu_negative)**2)\n",
    "    return torch.sqrt(d_f2_sq)\n",
    "    #return torch.max(torch.abs(gen_moment_nu_positive - gen_moment_mu_positive),torch.abs(gen_moment_nu_negative - gen_moment_mu_negative))"
   ]
  },
  {
   "cell_type": "code",
   "execution_count": 22,
   "metadata": {},
   "outputs": [
    {
     "name": "stdout",
     "output_type": "stream",
     "text": [
      "tensor(0.0023)\n"
     ]
    }
   ],
   "source": [
    "print(d_f2_estimate(X_nu, X_mu, 1, 0))"
   ]
  },
  {
   "cell_type": "code",
   "execution_count": 29,
   "metadata": {},
   "outputs": [
    {
     "name": "stdout",
     "output_type": "stream",
     "text": [
      "tensor(0.0022)\n"
     ]
    }
   ],
   "source": [
    "print(d_f2_estimate_exact_kernel(X_mu, X_nu, 1, 0))"
   ]
  },
  {
   "cell_type": "code",
   "execution_count": null,
   "metadata": {},
   "outputs": [],
   "source": []
  }
 ],
 "metadata": {
  "kernelspec": {
   "display_name": "Python 3",
   "language": "python",
   "name": "python3"
  },
  "language_info": {
   "codemirror_mode": {
    "name": "ipython",
    "version": 3
   },
   "file_extension": ".py",
   "mimetype": "text/x-python",
   "name": "python",
   "nbconvert_exporter": "python",
   "pygments_lexer": "ipython3",
   "version": "3.7.4"
  }
 },
 "nbformat": 4,
 "nbformat_minor": 2
}
